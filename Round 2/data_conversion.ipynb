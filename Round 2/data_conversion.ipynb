{
 "cells": [
  {
   "cell_type": "markdown",
   "id": "1a44aeed",
   "metadata": {},
   "source": [
    "File to convert all the data.csv files into a readable format and save them in a new folder"
   ]
  },
  {
   "cell_type": "code",
   "execution_count": null,
   "id": "8b9db31a",
   "metadata": {},
   "outputs": [],
   "source": [
    "import pandas as pd\n",
    "import numpy as np\n",
    "import math\n",
    "import openpyxl"
   ]
  },
  {
   "cell_type": "code",
   "execution_count": null,
   "id": "aefb3ae7",
   "metadata": {},
   "outputs": [],
   "source": [
    "prices_day_minus1 = pd.read_csv(\"data_old/prices_round_2_day_-1.csv\", sep=';')\n",
    "prices_day_0 = pd.read_csv(\"data_old/prices_round_2_day_0.csv\", sep=';')\n",
    "prices_day_1 = pd.read_csv(\"data_old/prices_round_2_day_1.csv\", sep=';')\n",
    "trades_day_minus1 = pd.read_csv(\"data_old/trades_round_2_day_-1.csv\", sep=';')\n",
    "trades_day_0 = pd.read_csv(\"data_old/trades_round_2_day_0.csv\", sep=';')\n",
    "trades_day_1 = pd.read_csv(\"data_old/trades_round_2_day_1.csv\", sep=';')"
   ]
  },
  {
   "cell_type": "code",
   "execution_count": null,
   "id": "a9e4870a",
   "metadata": {},
   "outputs": [],
   "source": [
    "trades = pd.concat([trades_day_minus1, trades_day_0, trades_day_1], ignore_index=True)\n",
    "prices = pd.concat([prices_day_minus1, prices_day_0, prices_day_1], ignore_index=True)"
   ]
  },
  {
   "cell_type": "code",
   "execution_count": null,
   "id": "e28eea48",
   "metadata": {},
   "outputs": [],
   "source": [
    "trades.to_excel(\"data/trades.xlsx\", index=False)\n",
    "prices.to_excel(\"data/prices.xlsx\", index=False)"
   ]
  },
  {
   "cell_type": "code",
   "execution_count": null,
   "id": "fbc4caa4",
   "metadata": {},
   "outputs": [],
   "source": [
    "print(prices_day_minus1.info())\n",
    "print(prices_day_0.info())\n",
    "print(prices_day_1.info())\n",
    "print(prices.info())"
   ]
  },
  {
   "cell_type": "code",
   "execution_count": null,
   "id": "2983eb0e",
   "metadata": {},
   "outputs": [],
   "source": [
    "print(trades_day_minus1.info())\n",
    "print(trades_day_0.info())\n",
    "print(trades_day_1.info())\n",
    "print(trades.info())"
   ]
  }
 ],
 "metadata": {
  "kernelspec": {
   "display_name": "Python 3",
   "language": "python",
   "name": "python3"
  },
  "language_info": {
   "codemirror_mode": {
    "name": "ipython",
    "version": 3
   },
   "file_extension": ".py",
   "mimetype": "text/x-python",
   "name": "python",
   "nbconvert_exporter": "python",
   "pygments_lexer": "ipython3",
   "version": "3.13.2"
  }
 },
 "nbformat": 4,
 "nbformat_minor": 5
}
